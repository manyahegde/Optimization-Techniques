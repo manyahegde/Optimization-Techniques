{
 "cells": [
  {
   "cell_type": "markdown",
   "metadata": {},
   "source": [
    "# 1"
   ]
  },
  {
   "cell_type": "code",
   "execution_count": 144,
   "metadata": {},
   "outputs": [],
   "source": [
    "#!pip install sciPy"
   ]
  },
  {
   "cell_type": "code",
   "execution_count": 145,
   "metadata": {},
   "outputs": [],
   "source": [
    "import numpy as np\n",
    "from scipy.optimize import minimize"
   ]
  },
  {
   "cell_type": "code",
   "execution_count": 147,
   "metadata": {},
   "outputs": [],
   "source": [
    "# define objective function\n",
    "def objective(x):\n",
    "    return 2*x**2+20*x-22"
   ]
  },
  {
   "cell_type": "code",
   "execution_count": 148,
   "metadata": {},
   "outputs": [],
   "source": [
    "# initial guess\n",
    "x0=np.array([0])\n",
    "\n",
    "# perform the optimization\n",
    "result = minimize(objective, x0, method='BFGS')"
   ]
  },
  {
   "cell_type": "code",
   "execution_count": 149,
   "metadata": {},
   "outputs": [
    {
     "data": {
      "text/plain": [
       "  message: Optimization terminated successfully.\n",
       "  success: True\n",
       "   status: 0\n",
       "      fun: -71.99999999999989\n",
       "        x: [-5.000e+00]\n",
       "      nit: 3\n",
       "      jac: [-1.907e-06]\n",
       " hess_inv: [[ 2.500e-01]]\n",
       "     nfev: 8\n",
       "     njev: 4"
      ]
     },
     "execution_count": 149,
     "metadata": {},
     "output_type": "execute_result"
    }
   ],
   "source": [
    "result"
   ]
  },
  {
   "cell_type": "code",
   "execution_count": 150,
   "metadata": {},
   "outputs": [
    {
     "name": "stdout",
     "output_type": "stream",
     "text": [
      "optimal solution for x: [-5.00000023]\n",
      "minimum value of the function: -71.99999999999989\n"
     ]
    }
   ],
   "source": [
    "print('optimal solution for x:', result.x)\n",
    "print('minimum value of the function:', result.fun)"
   ]
  },
  {
   "cell_type": "code",
   "execution_count": null,
   "metadata": {},
   "outputs": [],
   "source": []
  },
  {
   "cell_type": "markdown",
   "metadata": {},
   "source": [
    "# 2"
   ]
  },
  {
   "cell_type": "code",
   "execution_count": 151,
   "metadata": {},
   "outputs": [],
   "source": [
    "import numpy as np\n",
    "from scipy.optimize import minimize"
   ]
  },
  {
   "cell_type": "code",
   "execution_count": 152,
   "metadata": {},
   "outputs": [],
   "source": [
    "def objective(x):\n",
    "    return x[0]**2+x[1]**2"
   ]
  },
  {
   "cell_type": "code",
   "execution_count": 153,
   "metadata": {},
   "outputs": [],
   "source": [
    "# define constraint \n",
    "def constraint(x):\n",
    "    return x[0]+x[1]-1\n"
   ]
  },
  {
   "cell_type": "code",
   "execution_count": 154,
   "metadata": {},
   "outputs": [],
   "source": [
    "# initial guess\n",
    "x0=[0.5,0.5]"
   ]
  },
  {
   "cell_type": "code",
   "execution_count": 155,
   "metadata": {},
   "outputs": [],
   "source": [
    "# define the bounds\n",
    "bounds=[(0, None),(0, None)]"
   ]
  },
  {
   "cell_type": "code",
   "execution_count": 156,
   "metadata": {},
   "outputs": [],
   "source": [
    "# define the constraint dictionary\n",
    "con = {'type': 'eq', 'fun': constraint}"
   ]
  },
  {
   "cell_type": "code",
   "execution_count": 157,
   "metadata": {},
   "outputs": [],
   "source": [
    "# perform the optimization with constraints and bounds\n",
    "result = minimize(objective, x0, bounds=bounds, constraints=con, method='SLSQP')"
   ]
  },
  {
   "cell_type": "code",
   "execution_count": 158,
   "metadata": {},
   "outputs": [
    {
     "name": "stdout",
     "output_type": "stream",
     "text": [
      "optimal value of x: [0.5 0.5]\n",
      "objective function value: 0.5\n"
     ]
    }
   ],
   "source": [
    "print(f\"optimal value of x: {result.x}\")\n",
    "print(f\"objective function value: {result.fun}\")"
   ]
  },
  {
   "cell_type": "code",
   "execution_count": 159,
   "metadata": {},
   "outputs": [
    {
     "data": {
      "text/plain": [
       " message: Optimization terminated successfully\n",
       " success: True\n",
       "  status: 0\n",
       "     fun: 0.5\n",
       "       x: [ 5.000e-01  5.000e-01]\n",
       "     nit: 1\n",
       "     jac: [ 1.000e+00  1.000e+00]\n",
       "    nfev: 3\n",
       "    njev: 1"
      ]
     },
     "execution_count": 159,
     "metadata": {},
     "output_type": "execute_result"
    }
   ],
   "source": [
    "result"
   ]
  },
  {
   "cell_type": "code",
   "execution_count": null,
   "metadata": {},
   "outputs": [],
   "source": []
  },
  {
   "cell_type": "markdown",
   "metadata": {},
   "source": [
    "# 3 "
   ]
  },
  {
   "cell_type": "code",
   "execution_count": 160,
   "metadata": {},
   "outputs": [],
   "source": [
    "import numpy as np\n",
    "from scipy.optimize import minimize"
   ]
  },
  {
   "cell_type": "code",
   "execution_count": 161,
   "metadata": {},
   "outputs": [],
   "source": [
    "def objective(x):\n",
    "    return x[0]*x[3]*(x[0]+x[1]+x[2])+x[2]"
   ]
  },
  {
   "cell_type": "code",
   "execution_count": 162,
   "metadata": {},
   "outputs": [],
   "source": [
    "# initial value\n",
    "x=[1,5,5,1]"
   ]
  },
  {
   "cell_type": "code",
   "execution_count": 163,
   "metadata": {},
   "outputs": [
    {
     "name": "stdout",
     "output_type": "stream",
     "text": [
      "initial value of objectivee 16\n"
     ]
    }
   ],
   "source": [
    "print('initial value of objectivee', str(objective(x)))"
   ]
  },
  {
   "cell_type": "code",
   "execution_count": 164,
   "metadata": {},
   "outputs": [],
   "source": [
    "# def constraint1(x):\n",
    "#     sum_eq=40.0\n",
    "#     for i in range(4):\n",
    "#         sum_eq=sum_eq-x[i]**2\n",
    "#     return sum_eq"
   ]
  },
  {
   "cell_type": "code",
   "execution_count": 165,
   "metadata": {},
   "outputs": [],
   "source": [
    "def constraint1(x):\n",
    "    return x[0]**2+x[1]**2+x[2]**2+x[3]**2-40 "
   ]
  },
  {
   "cell_type": "code",
   "execution_count": 166,
   "metadata": {},
   "outputs": [],
   "source": [
    "def constraint2(x):\n",
    "    return x[0]*x[1]*x[2]*x[3]-25"
   ]
  },
  {
   "cell_type": "code",
   "execution_count": 167,
   "metadata": {},
   "outputs": [],
   "source": [
    "con1 = {'type': 'eq', 'fun': constraint1}\n",
    "con2 = {'type': 'ineq', 'fun': constraint2}\n",
    "cons=([con1, con2])"
   ]
  },
  {
   "cell_type": "code",
   "execution_count": 168,
   "metadata": {},
   "outputs": [],
   "source": [
    "bounds=[(1,5),(1,5),(1,5),(1,5)]\n",
    "# b=(1.0,5.0)\n",
    "# bounds=(b,b,b,b)"
   ]
  },
  {
   "cell_type": "code",
   "execution_count": 169,
   "metadata": {},
   "outputs": [],
   "source": [
    "result = minimize(objective, x, bounds=bounds, constraints=cons, method='SLSQP')"
   ]
  },
  {
   "cell_type": "code",
   "execution_count": 170,
   "metadata": {},
   "outputs": [
    {
     "data": {
      "text/plain": [
       " message: Optimization terminated successfully\n",
       " success: True\n",
       "  status: 0\n",
       "     fun: 17.01401724556073\n",
       "       x: [ 1.000e+00  4.743e+00  3.821e+00  1.379e+00]\n",
       "     nit: 5\n",
       "     jac: [ 1.457e+01  1.379e+00  2.379e+00  9.564e+00]\n",
       "    nfev: 25\n",
       "    njev: 5"
      ]
     },
     "execution_count": 170,
     "metadata": {},
     "output_type": "execute_result"
    }
   ],
   "source": [
    "result"
   ]
  },
  {
   "cell_type": "code",
   "execution_count": 171,
   "metadata": {},
   "outputs": [
    {
     "name": "stdout",
     "output_type": "stream",
     "text": [
      "optimal solution for x:  [1.         4.74299607 3.82115466 1.37940764]\n",
      "minimum value of function:  17.01401724556073\n"
     ]
    }
   ],
   "source": [
    "print('optimal solution for x: ', result.x)\n",
    "print('minimum value of function: ', result.fun)"
   ]
  },
  {
   "cell_type": "code",
   "execution_count": 172,
   "metadata": {},
   "outputs": [
    {
     "name": "stdout",
     "output_type": "stream",
     "text": [
      "final objectivee 17.01401724556073\n"
     ]
    }
   ],
   "source": [
    "print('final objectivee', str(objective(result.x)))"
   ]
  },
  {
   "cell_type": "code",
   "execution_count": 173,
   "metadata": {},
   "outputs": [
    {
     "name": "stdout",
     "output_type": "stream",
     "text": [
      "x1 =  1.0\n",
      "x2 =  4.742996065636972\n",
      "x3 =  3.8211546642483363\n",
      "x4 =  1.3794076394141688\n"
     ]
    }
   ],
   "source": [
    "print('x1 = ',str(result.x[0]))\n",
    "print('x2 = ',str(result.x[1]))\n",
    "print('x3 = ',str(result.x[2]))\n",
    "print('x4 = ',str(result.x[3]))"
   ]
  },
  {
   "cell_type": "code",
   "execution_count": null,
   "metadata": {},
   "outputs": [],
   "source": []
  },
  {
   "cell_type": "markdown",
   "metadata": {},
   "source": [
    "# 4"
   ]
  },
  {
   "cell_type": "code",
   "execution_count": 232,
   "metadata": {},
   "outputs": [],
   "source": [
    "def obj(x):\n",
    "    return 12*x[0]+9*x[1]"
   ]
  },
  {
   "cell_type": "code",
   "execution_count": 233,
   "metadata": {},
   "outputs": [],
   "source": [
    "def con1(x):\n",
    "    return x[0]-1000"
   ]
  },
  {
   "cell_type": "code",
   "execution_count": 234,
   "metadata": {},
   "outputs": [],
   "source": [
    "def con2(x):\n",
    "    return x[1]-1500"
   ]
  },
  {
   "cell_type": "code",
   "execution_count": 235,
   "metadata": {},
   "outputs": [],
   "source": [
    "def con3(x):\n",
    "    return x[0]+x[1]-1750"
   ]
  },
  {
   "cell_type": "code",
   "execution_count": 236,
   "metadata": {},
   "outputs": [],
   "source": [
    "def con4(x):\n",
    "    return 4*x[0]+2*x[1]-4800"
   ]
  },
  {
   "cell_type": "code",
   "execution_count": 237,
   "metadata": {},
   "outputs": [],
   "source": [
    "# initial guess\n",
    "x=[0,0]"
   ]
  },
  {
   "cell_type": "code",
   "execution_count": 238,
   "metadata": {},
   "outputs": [],
   "source": [
    "b=(0,None)\n",
    "bounds=(b,b)"
   ]
  },
  {
   "cell_type": "code",
   "execution_count": 243,
   "metadata": {},
   "outputs": [],
   "source": [
    "cons = [{'type': 'ineq', 'fun': con1},\n",
    "        {'type': 'ineq', 'fun': con2},\n",
    "        {'type': 'ineq', 'fun': con3},\n",
    "        {'type': 'ineq', 'fun': con4}]"
   ]
  },
  {
   "cell_type": "code",
   "execution_count": 244,
   "metadata": {},
   "outputs": [],
   "source": [
    "res=minimize(obj,x,bounds=bounds, constraints=cons, method='SLSQP')"
   ]
  },
  {
   "cell_type": "code",
   "execution_count": 246,
   "metadata": {},
   "outputs": [
    {
     "data": {
      "text/plain": [
       " message: Optimization terminated successfully\n",
       " success: True\n",
       "  status: 0\n",
       "     fun: 25499.999999999724\n",
       "       x: [ 1.000e+03  1.500e+03]\n",
       "     nit: 2\n",
       "     jac: [ 1.200e+01  9.000e+00]\n",
       "    nfev: 7\n",
       "    njev: 2"
      ]
     },
     "execution_count": 246,
     "metadata": {},
     "output_type": "execute_result"
    }
   ],
   "source": [
    "res"
   ]
  },
  {
   "cell_type": "code",
   "execution_count": null,
   "metadata": {},
   "outputs": [],
   "source": []
  },
  {
   "cell_type": "code",
   "execution_count": null,
   "metadata": {},
   "outputs": [],
   "source": []
  }
 ],
 "metadata": {
  "kernelspec": {
   "display_name": "Python 3",
   "language": "python",
   "name": "python3"
  },
  "language_info": {
   "codemirror_mode": {
    "name": "ipython",
    "version": 3
   },
   "file_extension": ".py",
   "mimetype": "text/x-python",
   "name": "python",
   "nbconvert_exporter": "python",
   "pygments_lexer": "ipython3",
   "version": "3.12.0"
  }
 },
 "nbformat": 4,
 "nbformat_minor": 2
}
