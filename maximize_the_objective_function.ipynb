{
 "cells": [
  {
   "cell_type": "markdown",
   "metadata": {},
   "source": [
    "# 1"
   ]
  },
  {
   "cell_type": "code",
   "execution_count": 7,
   "metadata": {},
   "outputs": [],
   "source": [
    "import numpy as np\n",
    "from scipy.optimize import linprog"
   ]
  },
  {
   "cell_type": "code",
   "execution_count": 8,
   "metadata": {},
   "outputs": [],
   "source": [
    "# coefficients of the objective function (maximize 12x + 9y -> minimize -12x-9y)\n",
    "c=[-12, -9]"
   ]
  },
  {
   "cell_type": "code",
   "execution_count": 9,
   "metadata": {},
   "outputs": [],
   "source": [
    "# coefficients of the inequality contraints\n",
    "A=[[1,0],  # x<=1000\n",
    "   [0,1],  # y<=1500\n",
    "   [1,1],  # x+y<=1750\n",
    "   [4,2]]  # 4x+2y<=4800"
   ]
  },
  {
   "cell_type": "code",
   "execution_count": 10,
   "metadata": {},
   "outputs": [],
   "source": [
    "# RHS of the inequality constraints\n",
    "b=[1000,1500,1750,4800]"
   ]
  },
  {
   "cell_type": "code",
   "execution_count": 11,
   "metadata": {},
   "outputs": [],
   "source": [
    "x_bounds=(0, None)\n",
    "y_bounds=(0, None)"
   ]
  },
  {
   "cell_type": "code",
   "execution_count": 12,
   "metadata": {},
   "outputs": [],
   "source": [
    "result=linprog(c, A_ub=A, b_ub=b, bounds=[x_bounds, y_bounds], method='highs')"
   ]
  },
  {
   "cell_type": "code",
   "execution_count": 13,
   "metadata": {},
   "outputs": [
    {
     "name": "stdout",
     "output_type": "stream",
     "text": [
      "optimal value: 17700.0\n",
      "optimal solution: 650.0, y=1100.0\n"
     ]
    }
   ],
   "source": [
    "print(f\"optimal value: {-result.fun}\") # convert back to maximization\n",
    "print(f\"optimal solution: {result.x[0]}, y={result.x[1]}\")"
   ]
  },
  {
   "cell_type": "code",
   "execution_count": null,
   "metadata": {},
   "outputs": [],
   "source": []
  },
  {
   "cell_type": "markdown",
   "metadata": {},
   "source": [
    "##### 2. Experienced workers are paid $15/h and inexperienced workers are paid $10/h. company can spend $1200/h on labour. Experienced workers require an average of 1 min an hour of contact with a supervisor, inexperienced workers require 2. There are two supervisors who can provide 120 min in an hour."
   ]
  },
  {
   "cell_type": "code",
   "execution_count": 19,
   "metadata": {},
   "outputs": [],
   "source": [
    "# x-> experienced\n",
    "# y->inexperienced \n",
    "\n",
    "# constraints:\n",
    "# 15x+10y<=1200\n",
    "# x+2y<=120\n",
    "# x>=0, y>=0"
   ]
  },
  {
   "cell_type": "code",
   "execution_count": 20,
   "metadata": {},
   "outputs": [],
   "source": [
    "import numpy as np\n",
    "from scipy.optimize import linprog"
   ]
  },
  {
   "cell_type": "code",
   "execution_count": 22,
   "metadata": {},
   "outputs": [],
   "source": [
    "# coefficients of the objective function (maximize x+y -> minimize -x-y)\n",
    "c=[-1, -1]"
   ]
  },
  {
   "cell_type": "code",
   "execution_count": 23,
   "metadata": {},
   "outputs": [],
   "source": [
    "A=[\n",
    "    [15,10],\n",
    "    [1,2]\n",
    "]\n",
    "\n",
    "b=[1200, 120]"
   ]
  },
  {
   "cell_type": "code",
   "execution_count": 24,
   "metadata": {},
   "outputs": [],
   "source": [
    "x_bounds=(0, None)\n",
    "y_bounds=(0, None)"
   ]
  },
  {
   "cell_type": "code",
   "execution_count": 26,
   "metadata": {},
   "outputs": [],
   "source": [
    "result=linprog(c, A_ub=A, b_ub=b, bounds=[x_bounds, y_bounds], method='highs')"
   ]
  },
  {
   "cell_type": "code",
   "execution_count": 27,
   "metadata": {},
   "outputs": [
    {
     "name": "stdout",
     "output_type": "stream",
     "text": [
      "optimal value: 90.0\n",
      "optimal solution: 60.0, y=30.0\n"
     ]
    }
   ],
   "source": [
    "print(f\"optimal value: {-result.fun}\") # convert back to maximization\n",
    "print(f\"optimal solution: {result.x[0]}, y={result.x[1]}\")"
   ]
  },
  {
   "cell_type": "code",
   "execution_count": null,
   "metadata": {},
   "outputs": [],
   "source": []
  }
 ],
 "metadata": {
  "kernelspec": {
   "display_name": "Python 3",
   "language": "python",
   "name": "python3"
  },
  "language_info": {
   "codemirror_mode": {
    "name": "ipython",
    "version": 3
   },
   "file_extension": ".py",
   "mimetype": "text/x-python",
   "name": "python",
   "nbconvert_exporter": "python",
   "pygments_lexer": "ipython3",
   "version": "3.12.0"
  }
 },
 "nbformat": 4,
 "nbformat_minor": 2
}
