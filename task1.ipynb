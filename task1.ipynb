{
 "cells": [
  {
   "cell_type": "markdown",
   "metadata": {},
   "source": [
    "### Optimization Techniques - TASK 1\n",
    "\n",
    "There’s a bakery that produces two types of bread: **Whole Wheat Bread** and **Multigrain Bread**. The bakery wants to maximize its daily profit while respecting certain constraints related to the availability of resources.\n",
    "\n",
    "**Scenario:**\n",
    "\n",
    "- **Whole Wheat Bread (x):**\n",
    "    - Profit: $3 per loaf\n",
    "    - Requires 2 units of flour and 1 unit of yeast.\n",
    "- **Multigrain Bread (y):**\n",
    "    - Profit: $4 per loaf\n",
    "    - Requires 1 units of flour and 2 units of yeast.\n",
    "\n",
    "**Resource Constraints:**\n",
    "\n",
    "- The bakery has 21 units of flour and 12 units of yeast available daily.\n",
    "\n",
    "**Objective:**\n",
    "\n",
    "Maximize the bakery's profit by determining how many loaves of each type of bread to produce.\n",
    "\n",
    "**<u>Solution</u>**\n",
    "\n",
    "- Let x be the number of Whole Wheat Bread loaves produced daily.\n",
    "- Let y be the number of Multigrain Bread loaves produced daily.\n",
    "\n",
    "_Objective Function (to maximize):_ Profit = 3x + 4y\n",
    "\n",
    "_Constraints:_\n",
    "\n",
    "1. Flour constraint: 2x + 1y ≤ 21\n",
    "2. Yeast constraint: 1x + 2y ≤ 12 \n",
    "3. Non-negativity constraint: x, y ≥ 0"
   ]
  },
  {
   "cell_type": "code",
   "execution_count": 26,
   "metadata": {},
   "outputs": [],
   "source": [
    "import numpy as np\n",
    "from scipy.optimize import linprog"
   ]
  },
  {
   "cell_type": "code",
   "execution_count": 27,
   "metadata": {},
   "outputs": [],
   "source": [
    "# coefficients of the objective function (maximize 3x + 4y -> minimize - 3x - 4y)\n",
    "c=[-3, -4]"
   ]
  },
  {
   "cell_type": "code",
   "execution_count": 28,
   "metadata": {},
   "outputs": [],
   "source": [
    "# coefficients of the inequality contraints\n",
    "A=[[2,1],  # 2x + 1y ≤ 21\n",
    "   [1,2]]  # 1x + 2y ≤ 12 "
   ]
  },
  {
   "cell_type": "code",
   "execution_count": 29,
   "metadata": {},
   "outputs": [],
   "source": [
    "# RHS of the inequality constraints\n",
    "b=[21,12]"
   ]
  },
  {
   "cell_type": "code",
   "execution_count": 30,
   "metadata": {},
   "outputs": [],
   "source": [
    "x_bounds=(0, None)\n",
    "y_bounds=(0, None)"
   ]
  },
  {
   "cell_type": "code",
   "execution_count": 31,
   "metadata": {},
   "outputs": [],
   "source": [
    "result=linprog(c, A_ub=A, b_ub=b, bounds=[x_bounds, y_bounds], method='highs')"
   ]
  },
  {
   "cell_type": "code",
   "execution_count": 32,
   "metadata": {},
   "outputs": [
    {
     "name": "stdout",
     "output_type": "stream",
     "text": [
      "optimal value: 34.0\n",
      "optimal solution: 10.0, y=1.0\n"
     ]
    }
   ],
   "source": [
    "print(f\"optimal value: {-result.fun}\") # convert back to maximization\n",
    "print(f\"optimal solution: {result.x[0]}, y={result.x[1]}\")"
   ]
  },
  {
   "cell_type": "code",
   "execution_count": null,
   "metadata": {},
   "outputs": [],
   "source": []
  }
 ],
 "metadata": {
  "kernelspec": {
   "display_name": "Python 3",
   "language": "python",
   "name": "python3"
  },
  "language_info": {
   "codemirror_mode": {
    "name": "ipython",
    "version": 3
   },
   "file_extension": ".py",
   "mimetype": "text/x-python",
   "name": "python",
   "nbconvert_exporter": "python",
   "pygments_lexer": "ipython3",
   "version": "3.12.0"
  }
 },
 "nbformat": 4,
 "nbformat_minor": 2
}
