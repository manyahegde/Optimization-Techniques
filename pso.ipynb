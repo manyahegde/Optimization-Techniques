{
 "cells": [
  {
   "cell_type": "code",
   "execution_count": 66,
   "metadata": {},
   "outputs": [],
   "source": [
    "import random\n",
    "import numpy as np"
   ]
  },
  {
   "cell_type": "code",
   "execution_count": 67,
   "metadata": {},
   "outputs": [],
   "source": [
    "w=0.5\n",
    "c1=0.8\n",
    "c2=0.9"
   ]
  },
  {
   "cell_type": "code",
   "execution_count": 68,
   "metadata": {},
   "outputs": [],
   "source": [
    "n_iterations=int(input(\"inform the number of iterations: \"))"
   ]
  },
  {
   "cell_type": "code",
   "execution_count": 69,
   "metadata": {},
   "outputs": [],
   "source": [
    "target_error=float(input(\"inform the target error: \"))"
   ]
  },
  {
   "cell_type": "code",
   "execution_count": 70,
   "metadata": {},
   "outputs": [],
   "source": [
    "n_particles=int(input(\"ainform the number of particles: \"))"
   ]
  },
  {
   "cell_type": "code",
   "execution_count": 71,
   "metadata": {},
   "outputs": [],
   "source": [
    "class Particle():\n",
    "    def __init__(self):\n",
    "        self.position=np.array([(-1)**(bool(random.getrandbits(1)))*random.random()*50, (-1)**(bool(random.getrandbits(1)))*random.random()*50])\n",
    "        self.pbest_position=self.position\n",
    "        self.pbest_value=float('inf')\n",
    "        self.velocity=np.array([0,0])\n",
    "\n",
    "    def __str__(self):\n",
    "        print(\"i am at \", self.position, \" my pbest is \", self.pbest_position)\n",
    "\n",
    "    def move(self):\n",
    "        self.position=self.position+self.velocity"
   ]
  },
  {
   "cell_type": "code",
   "execution_count": 72,
   "metadata": {},
   "outputs": [],
   "source": [
    "class Space():\n",
    "    def __init__(self, target, target_error, n_particles):\n",
    "        self.target=target\n",
    "        self.target_error=target_error\n",
    "        self.n_particles=n_particles\n",
    "        self.particles=[]\n",
    "        self.gbest_value=float('inf')\n",
    "        self.gbest_position=np.array([random.random()*50, random.random()*50])\n",
    "\n",
    "    def print_particles(self):\n",
    "        for particle in self.particles:\n",
    "            particle.__str__()\n",
    "\n",
    "    def fitness(self, particle):\n",
    "        return particle.position[0]**2+particle.position[1]**2+1\n",
    "    \n",
    "    def set_pbest(self):\n",
    "        for particle in self.particles:\n",
    "            fitness_candidate = self.fitness(particle)\n",
    "            if particle.pbest_value > fitness_candidate:\n",
    "                particle.pbest_value = fitness_candidate\n",
    "                particle.pbest_position = particle.position\n",
    "\n",
    "    def set_gbest(self):\n",
    "        for particle in self.particles:\n",
    "            fitness_candidate = self.fitness(particle)\n",
    "            if self.gbest_value > fitness_candidate:\n",
    "                self.gbest_value = fitness_candidate\n",
    "                self.gbest_position = particle.position\n",
    "\n",
    "\n",
    "    def move_particles(self):\n",
    "        for particle in self.particles:\n",
    "            global W\n",
    "            new_velocity = (w * particle.velocity) + (c1 * random.random()) * (particle.pbest_position - particle.position) + (random.random() * c2) * (self.gbest_position - particle.position)\n",
    "            particle.velocity=new_velocity\n",
    "            particle.move()"
   ]
  },
  {
   "cell_type": "code",
   "execution_count": 73,
   "metadata": {},
   "outputs": [
    {
     "name": "stdout",
     "output_type": "stream",
     "text": [
      "i am at  [ 15.21897628 -33.18193489]  my pbest is  [ 15.21897628 -33.18193489]\n",
      "i am at  [40.1180695   2.65940578]  my pbest is  [40.1180695   2.65940578]\n",
      "i am at  [-0.98914178 47.10665582]  my pbest is  [-0.98914178 47.10665582]\n",
      "i am at  [-20.56861218  13.16649432]  my pbest is  [-20.56861218  13.16649432]\n",
      "i am at  [-37.59365627 -37.55409672]  my pbest is  [-37.59365627 -37.55409672]\n",
      "i am at  [41.72358476 19.0249546 ]  my pbest is  [41.72358476 19.0249546 ]\n",
      "i am at  [-38.03053355  48.81031792]  my pbest is  [-38.03053355  48.81031792]\n",
      "i am at  [ 26.69586633 -19.83828727]  my pbest is  [ 26.69586633 -19.83828727]\n",
      "i am at  [ 10.51897645 -38.66669106]  my pbest is  [ 10.51897645 -38.66669106]\n",
      "i am at  [34.18746704 18.5677018 ]  my pbest is  [34.18746704 18.5677018 ]\n"
     ]
    }
   ],
   "source": [
    "search_space=Space(1, target_error, n_particles)\n",
    "particles_vector=[Particle() for _ in range(search_space.n_particles)]\n",
    "search_space.particles=particles_vector\n",
    "search_space.print_particles()"
   ]
  },
  {
   "cell_type": "code",
   "execution_count": 74,
   "metadata": {},
   "outputs": [],
   "source": [
    "iteration=0\n",
    "while(iteration<n_iterations):\n",
    "    search_space.set_pbest()\n",
    "    search_space.set_gbest()\n",
    "\n",
    "    if(abs(search_space.gbest_value-search_space.target)<=search_space.target_error):\n",
    "        break\n",
    "\n",
    "    search_space.move_particles()\n",
    "    iteration+=1"
   ]
  },
  {
   "cell_type": "code",
   "execution_count": 75,
   "metadata": {},
   "outputs": [
    {
     "name": "stdout",
     "output_type": "stream",
     "text": [
      "the best solution is:  [ 0.28508565 -2.41240702]  in n_iterations:  4\n"
     ]
    }
   ],
   "source": [
    "print(\"the best solution is: \", search_space.gbest_position,  \" in n_iterations: \", iteration)"
   ]
  },
  {
   "cell_type": "code",
   "execution_count": null,
   "metadata": {},
   "outputs": [],
   "source": []
  }
 ],
 "metadata": {
  "kernelspec": {
   "display_name": "Python 3",
   "language": "python",
   "name": "python3"
  },
  "language_info": {
   "codemirror_mode": {
    "name": "ipython",
    "version": 3
   },
   "file_extension": ".py",
   "mimetype": "text/x-python",
   "name": "python",
   "nbconvert_exporter": "python",
   "pygments_lexer": "ipython3",
   "version": "3.12.0"
  }
 },
 "nbformat": 4,
 "nbformat_minor": 2
}
